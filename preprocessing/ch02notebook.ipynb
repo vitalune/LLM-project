{
 "cells": [
  {
   "cell_type": "markdown",
   "id": "1a82e95e-5c58-4ab9-801c-646d22a6af36",
   "metadata": {},
   "source": [
    "# Chapter 2: Working with Text Data"
   ]
  },
  {
   "cell_type": "markdown",
   "id": "e4a4f620-c59d-472b-956a-94e8f68a0a8f",
   "metadata": {},
   "source": [
    "## 2.2 Tokenizing text"
   ]
  },
  {
   "cell_type": "code",
   "execution_count": 51,
   "id": "4bb96c6b-4fe5-4fa7-bddf-78ff8c8c4d33",
   "metadata": {
    "scrolled": true
   },
   "outputs": [
    {
     "data": {
      "text/plain": [
       "('the-verdict.txt', <http.client.HTTPMessage at 0x120ef3890>)"
      ]
     },
     "execution_count": 51,
     "metadata": {},
     "output_type": "execute_result"
    }
   ],
   "source": [
    "import os\n",
    "import urllib.request\n",
    "\n",
    "url = (\"https://raw.githubusercontent.com/rasbt/\"\n",
    "           \"LLMs-from-scratch/main/ch02/01_main-chapter-code/\"\n",
    "           \"the-verdict.txt\")\n",
    "file_path = \"the-verdict.txt\"\n",
    "urllib.request.urlretrieve(url, file_path)"
   ]
  },
  {
   "cell_type": "code",
   "execution_count": 52,
   "id": "3db3f235-6a97-43c6-9ada-d161796ad2a2",
   "metadata": {},
   "outputs": [],
   "source": [
    "with open(\"the-verdict.txt\", \"r\", encoding=\"utf-8\") as f:\n",
    "    raw_text = f.read()"
   ]
  },
  {
   "cell_type": "code",
   "execution_count": 53,
   "id": "01bbf6a7-b9ac-41b5-8c06-8fd9c6a7ffa4",
   "metadata": {},
   "outputs": [
    {
     "name": "stdout",
     "output_type": "stream",
     "text": [
      "['Hello,', ' ', 'World.', ' ', 'This,', ' ', 'is', ' ', 'a', ' ', 'test.']\n"
     ]
    }
   ],
   "source": [
    "import re\n",
    "\n",
    "# split each word based on whitespace\n",
    "\n",
    "text = \"Hello, World. This, is a test.\"\n",
    "result = re.split(r'(\\s)', text)\n",
    "\n",
    "print(result)"
   ]
  },
  {
   "cell_type": "code",
   "execution_count": 54,
   "id": "8ced34dc-4723-480c-a17a-1f7ff83b2e18",
   "metadata": {},
   "outputs": [
    {
     "name": "stdout",
     "output_type": "stream",
     "text": [
      "['Hello', ',', '', ' ', 'World', '.', '', ' ', 'This', ',', '', ' ', 'is', ' ', 'a', ' ', 'test', '.', '']\n"
     ]
    }
   ],
   "source": [
    "# split based on whitespace and commas and periods\n",
    "\n",
    "result = re.split(r'([,.]|\\s)', text)\n",
    "print(result)"
   ]
  },
  {
   "cell_type": "code",
   "execution_count": 55,
   "id": "0c84ac62-1617-41e1-a95f-18e4789897c0",
   "metadata": {},
   "outputs": [
    {
     "name": "stdout",
     "output_type": "stream",
     "text": [
      "['Hello', ',', 'World', '.', 'This', ',', 'is', 'a', 'test', '.']\n"
     ]
    }
   ],
   "source": [
    "# strip whitespace from each item and then filter out any empty strings.\n",
    "\n",
    "result = [item for item in result if item.strip()]\n",
    "print(result)"
   ]
  },
  {
   "cell_type": "code",
   "execution_count": 56,
   "id": "cfed279a-b4fb-4243-a8ad-318250e9dad1",
   "metadata": {},
   "outputs": [
    {
     "name": "stdout",
     "output_type": "stream",
     "text": [
      "['I', 'HAD', 'always', 'thought', 'Jack', 'Gisburn', 'rather', 'a', 'cheap', 'genius', '--', 'though', 'a', 'good', 'fellow', 'enough', '--', 'so', 'it', 'was', 'no', 'great', 'surprise', 'to', 'me', 'to', 'hear', 'that', ',', 'in']\n"
     ]
    }
   ],
   "source": [
    "text = \"Hello, world. Is this-- a test?\"\n",
    "\n",
    "# includes other forms of punctuation\n",
    "result = re.split(r'([,.:;?_!\"()\\']|--|\\s)', raw_text)\n",
    "result = [item.strip() for item in result if item.strip()]\n",
    "preprocessed = result\n",
    "print(preprocessed[:30])"
   ]
  },
  {
   "cell_type": "code",
   "execution_count": 57,
   "id": "2f5c7b78-2ea2-4a8a-8b13-a1076769e7f5",
   "metadata": {},
   "outputs": [
    {
     "data": {
      "text/plain": [
       "4690"
      ]
     },
     "execution_count": 57,
     "metadata": {},
     "output_type": "execute_result"
    }
   ],
   "source": [
    "len(result)"
   ]
  },
  {
   "cell_type": "markdown",
   "id": "253e326f-e7fa-428c-bd0e-19c45d4d29ab",
   "metadata": {},
   "source": [
    "## 2.3 Converting tokens into token IDs"
   ]
  },
  {
   "cell_type": "code",
   "execution_count": 58,
   "id": "fc44239f-b062-4da9-a4c2-ef68565c8d9e",
   "metadata": {},
   "outputs": [
    {
     "name": "stdout",
     "output_type": "stream",
     "text": [
      "1130\n"
     ]
    }
   ],
   "source": [
    "# builds a vocabulary of all the tokens\n",
    "\n",
    "all_words = sorted(set(preprocessed))\n",
    "vocab_size = len(all_words)\n",
    "print(vocab_size)"
   ]
  },
  {
   "cell_type": "code",
   "execution_count": 59,
   "id": "34f3f3c2-bc65-4b4f-82b5-ac7c681a3abd",
   "metadata": {},
   "outputs": [
    {
     "name": "stdout",
     "output_type": "stream",
     "text": [
      "('!', 0)\n",
      "('\"', 1)\n",
      "(\"'\", 2)\n",
      "('(', 3)\n",
      "(')', 4)\n",
      "(',', 5)\n",
      "('--', 6)\n",
      "('.', 7)\n",
      "(':', 8)\n",
      "(';', 9)\n",
      "('?', 10)\n",
      "('A', 11)\n",
      "('Ah', 12)\n",
      "('Among', 13)\n",
      "('And', 14)\n",
      "('Are', 15)\n",
      "('Arrt', 16)\n",
      "('As', 17)\n",
      "('At', 18)\n",
      "('Be', 19)\n",
      "('Begin', 20)\n",
      "('Burlington', 21)\n",
      "('But', 22)\n",
      "('By', 23)\n",
      "('Carlo', 24)\n",
      "('Chicago', 25)\n",
      "('Claude', 26)\n",
      "('Come', 27)\n",
      "('Croft', 28)\n",
      "('Destroyed', 29)\n",
      "('Devonshire', 30)\n",
      "('Don', 31)\n",
      "('Dubarry', 32)\n",
      "('Emperors', 33)\n",
      "('Florence', 34)\n",
      "('For', 35)\n",
      "('Gallery', 36)\n",
      "('Gideon', 37)\n",
      "('Gisburn', 38)\n",
      "('Gisburns', 39)\n",
      "('Grafton', 40)\n",
      "('Greek', 41)\n",
      "('Grindle', 42)\n",
      "('Grindles', 43)\n",
      "('HAD', 44)\n",
      "('Had', 45)\n",
      "('Hang', 46)\n",
      "('Has', 47)\n",
      "('He', 48)\n",
      "('Her', 49)\n",
      "('Hermia', 50)\n"
     ]
    }
   ],
   "source": [
    "vocab = {token: integer for integer, token in enumerate(all_words)}\n",
    "for i, item in enumerate(vocab.items()):\n",
    "    print(item)\n",
    "    if i >= 50:\n",
    "        break"
   ]
  },
  {
   "cell_type": "code",
   "execution_count": 60,
   "id": "9de56183-d055-4c4a-9afe-0c0571d0cde7",
   "metadata": {},
   "outputs": [],
   "source": [
    "# putting it all together in a tokenizer class\n",
    "\n",
    "class SimpleTokenizerV1:\n",
    "    def __init__(self, vocab):\n",
    "        self.str_to_int = vocab\n",
    "        self.int_to_str = {i:s for s,i in vocab.items()}\n",
    "    \n",
    "    def encode(self, text):\n",
    "        preprocessed = re.split(r'([,.:;?_!\"()\\']|--|\\s)', text)\n",
    "                                \n",
    "        preprocessed = [\n",
    "            item.strip() for item in preprocessed if item.strip()\n",
    "        ]\n",
    "        ids = [self.str_to_int[s] for s in preprocessed]\n",
    "        return ids\n",
    "        \n",
    "    def decode(self, ids):\n",
    "        text = \" \".join([self.int_to_str[i] for i in ids])\n",
    "        # Replace spaces before the specified punctuations\n",
    "        text = re.sub(r'\\s+([,.?!\"()\\'])', r'\\1', text)\n",
    "        return text"
   ]
  },
  {
   "cell_type": "code",
   "execution_count": 61,
   "id": "b309fc53-f6fe-4948-b259-5d102f2e8288",
   "metadata": {},
   "outputs": [],
   "source": [
    "tokenizer = SimpleTokenizerV1(vocab)"
   ]
  },
  {
   "cell_type": "code",
   "execution_count": 62,
   "id": "c9ec7a31-17b6-4ea2-8fc1-849fff14d63d",
   "metadata": {},
   "outputs": [],
   "source": [
    "text = \"\"\"It's the last he painted, you know,\" \n",
    "           Mrs. Gisburn said with pardonable pride.\"\"\""
   ]
  },
  {
   "cell_type": "code",
   "execution_count": 63,
   "id": "97b98205-9279-4a91-8ccd-7f4b08eff74f",
   "metadata": {},
   "outputs": [
    {
     "name": "stdout",
     "output_type": "stream",
     "text": [
      "[56, 2, 850, 988, 602, 533, 746, 5, 1126, 596, 5, 1, 67, 7, 38, 851, 1108, 754, 793, 7]\n"
     ]
    }
   ],
   "source": [
    "ids = tokenizer.encode(text)\n",
    "print(ids)"
   ]
  },
  {
   "cell_type": "code",
   "execution_count": 64,
   "id": "2835fc65-591c-4a51-bc98-43b6c3d5a9f9",
   "metadata": {},
   "outputs": [
    {
     "data": {
      "text/plain": [
       "'It\\' s the last he painted, you know,\" Mrs. Gisburn said with pardonable pride.'"
      ]
     },
     "execution_count": 64,
     "metadata": {},
     "output_type": "execute_result"
    }
   ],
   "source": [
    "tokenizer.decode(ids)"
   ]
  },
  {
   "cell_type": "code",
   "execution_count": 65,
   "id": "5d8a33a8-80cf-4cca-a8aa-5da17ffd9f2d",
   "metadata": {},
   "outputs": [
    {
     "data": {
      "text/plain": [
       "'It\\' s the last he painted, you know,\" Mrs. Gisburn said with pardonable pride.'"
      ]
     },
     "execution_count": 65,
     "metadata": {},
     "output_type": "execute_result"
    }
   ],
   "source": [
    "tokenizer.decode(tokenizer.encode(text))"
   ]
  },
  {
   "cell_type": "markdown",
   "id": "b5fae84f-74a5-4ea3-8862-1b1f1ce564c0",
   "metadata": {},
   "source": [
    "## 2.4 Adding special context tokens"
   ]
  },
  {
   "cell_type": "code",
   "execution_count": 66,
   "id": "6526e848-7075-42f0-9c0f-bd6a32d7cb4d",
   "metadata": {},
   "outputs": [
    {
     "ename": "KeyError",
     "evalue": "'Hello'",
     "output_type": "error",
     "traceback": [
      "\u001b[31m---------------------------------------------------------------------------\u001b[39m",
      "\u001b[31mKeyError\u001b[39m                                  Traceback (most recent call last)",
      "\u001b[36mCell\u001b[39m\u001b[36m \u001b[39m\u001b[32mIn[66]\u001b[39m\u001b[32m, line 4\u001b[39m\n\u001b[32m      1\u001b[39m \u001b[38;5;66;03m# example of a limitation of the current tokenizer: raw-text does not include \"Hello\"\u001b[39;00m\n\u001b[32m      3\u001b[39m text = \u001b[33m\"\u001b[39m\u001b[33mHello, do you like tea. is this-- a test?\u001b[39m\u001b[33m\"\u001b[39m\n\u001b[32m----> \u001b[39m\u001b[32m4\u001b[39m \u001b[43mtokenizer\u001b[49m\u001b[43m.\u001b[49m\u001b[43mencode\u001b[49m\u001b[43m(\u001b[49m\u001b[43mtext\u001b[49m\u001b[43m)\u001b[49m\n",
      "\u001b[36mCell\u001b[39m\u001b[36m \u001b[39m\u001b[32mIn[60]\u001b[39m\u001b[32m, line 14\u001b[39m, in \u001b[36mSimpleTokenizerV1.encode\u001b[39m\u001b[34m(self, text)\u001b[39m\n\u001b[32m      9\u001b[39m preprocessed = re.split(\u001b[33mr\u001b[39m\u001b[33m'\u001b[39m\u001b[33m([,.:;?_!\u001b[39m\u001b[33m\"\u001b[39m\u001b[33m()\u001b[39m\u001b[38;5;130;01m\\'\u001b[39;00m\u001b[33m]|--|\u001b[39m\u001b[33m\\\u001b[39m\u001b[33ms)\u001b[39m\u001b[33m'\u001b[39m, text)\n\u001b[32m     11\u001b[39m preprocessed = [\n\u001b[32m     12\u001b[39m     item.strip() \u001b[38;5;28;01mfor\u001b[39;00m item \u001b[38;5;129;01min\u001b[39;00m preprocessed \u001b[38;5;28;01mif\u001b[39;00m item.strip()\n\u001b[32m     13\u001b[39m ]\n\u001b[32m---> \u001b[39m\u001b[32m14\u001b[39m ids = [\u001b[38;5;28;43mself\u001b[39;49m\u001b[43m.\u001b[49m\u001b[43mstr_to_int\u001b[49m\u001b[43m[\u001b[49m\u001b[43ms\u001b[49m\u001b[43m]\u001b[49m \u001b[38;5;28;01mfor\u001b[39;00m s \u001b[38;5;129;01min\u001b[39;00m preprocessed]\n\u001b[32m     15\u001b[39m \u001b[38;5;28;01mreturn\u001b[39;00m ids\n",
      "\u001b[31mKeyError\u001b[39m: 'Hello'"
     ]
    }
   ],
   "source": [
    "# example of a limitation of the current tokenizer: raw-text does not include \"Hello\"\n",
    "\n",
    "text = \"Hello, do you like tea. is this-- a test?\"\n",
    "tokenizer.encode(text)"
   ]
  },
  {
   "cell_type": "code",
   "execution_count": 67,
   "id": "ac5bcad7-35a0-43db-acc2-9cb3ceb66890",
   "metadata": {},
   "outputs": [],
   "source": [
    "# add end of text and unknown words as tokens to current token list\n",
    "\n",
    "all_tokens = sorted(list(set(preprocessed)))\n",
    "all_tokens.extend([\"<|endoftext|>\", \"<|unk|>\"])\n",
    "\n",
    "vocab = {token:integer for integer, token in enumerate(all_tokens)}"
   ]
  },
  {
   "cell_type": "code",
   "execution_count": 68,
   "id": "93559bc6-6089-46f0-9064-1b3ca5c26070",
   "metadata": {},
   "outputs": [
    {
     "data": {
      "text/plain": [
       "1132"
      ]
     },
     "execution_count": 68,
     "metadata": {},
     "output_type": "execute_result"
    }
   ],
   "source": [
    "len(vocab.items())"
   ]
  },
  {
   "cell_type": "code",
   "execution_count": 69,
   "id": "2015eba5-6409-4ebb-9f4d-42601980b113",
   "metadata": {},
   "outputs": [
    {
     "name": "stdout",
     "output_type": "stream",
     "text": [
      "('younger', 1127)\n",
      "('your', 1128)\n",
      "('yourself', 1129)\n",
      "('<|endoftext|>', 1130)\n",
      "('<|unk|>', 1131)\n"
     ]
    }
   ],
   "source": [
    "for i, item in enumerate(list(vocab.items())[-5:]):\n",
    "    print(item)"
   ]
  },
  {
   "cell_type": "code",
   "execution_count": 70,
   "id": "250b75b1-3a97-4495-afe6-14272a689f77",
   "metadata": {},
   "outputs": [],
   "source": [
    "# updates tokenizer class to include <unk> token if familiar word isn't found\n",
    "\n",
    "class SimpleTokenizerV2:\n",
    "    def __init__(self, vocab):\n",
    "        self.str_to_int = vocab\n",
    "        self.int_to_str = {i:s for s,i in vocab.items()}\n",
    "    \n",
    "    def encode(self, text):\n",
    "        preprocessed = re.split(r'([,.:;?_!\"()\\']|--|\\s)', text)\n",
    "                                \n",
    "        preprocessed = [\n",
    "            item.strip() for item in preprocessed if item.strip()\n",
    "        ]\n",
    "        preprocessed = [\n",
    "            item if item in self.str_to_int\n",
    "            else \"<|unk|>\" for item in preprocessed\n",
    "        ]\n",
    "        ids = [self.str_to_int[s] for s in preprocessed]\n",
    "        return ids\n",
    "        \n",
    "    def decode(self, ids):\n",
    "        text = \" \".join([self.int_to_str[i] for i in ids])\n",
    "        # replace spaces before the specified punctuations\n",
    "        text = re.sub(r'\\s+([,.?!\"()\\'])', r'\\1', text)\n",
    "        return text"
   ]
  },
  {
   "cell_type": "code",
   "execution_count": 71,
   "id": "30bf7175-a315-43dc-94a4-18a907015b11",
   "metadata": {},
   "outputs": [
    {
     "name": "stdout",
     "output_type": "stream",
     "text": [
      "Hello, do you like tea? <|endoftext|> In the sunlit terraces of the palace.\n"
     ]
    }
   ],
   "source": [
    "tokenizer = SimpleTokenizerV2(vocab)\n",
    "\n",
    "text1 = \"Hello, do you like tea?\"\n",
    "text2 = \"In the sunlit terraces of the palace.\"\n",
    "\n",
    "text = \" <|endoftext|> \".join((text1, text2))\n",
    "\n",
    "print(text)"
   ]
  },
  {
   "cell_type": "code",
   "execution_count": 72,
   "id": "71ca8437-a62a-42ce-aea8-e299152eb9bc",
   "metadata": {},
   "outputs": [
    {
     "data": {
      "text/plain": [
       "[1131, 5, 355, 1126, 628, 975, 10, 1130, 55, 988, 956, 984, 722, 988, 1131, 7]"
      ]
     },
     "execution_count": 72,
     "metadata": {},
     "output_type": "execute_result"
    }
   ],
   "source": [
    "tokenizer.encode(text)"
   ]
  },
  {
   "cell_type": "code",
   "execution_count": 73,
   "id": "a3f71a23-e0bf-4d85-a34d-68aade5598fb",
   "metadata": {},
   "outputs": [
    {
     "data": {
      "text/plain": [
       "'<|unk|>, do you like tea? <|endoftext|> In the sunlit terraces of the <|unk|>.'"
      ]
     },
     "execution_count": 73,
     "metadata": {},
     "output_type": "execute_result"
    }
   ],
   "source": [
    "tokenizer.decode(tokenizer.encode(text))"
   ]
  },
  {
   "cell_type": "markdown",
   "id": "91c7d2f9-5467-44a0-8aba-f9481d9d5da3",
   "metadata": {},
   "source": [
    "## 2.5 BytePair encoding"
   ]
  },
  {
   "cell_type": "code",
   "execution_count": 74,
   "id": "584e43c3-c314-4875-9244-5b2cc9a2184e",
   "metadata": {},
   "outputs": [],
   "source": [
    "# GPT-2 used BytePair encoding (BPE) as its tokenizer\n",
    "# it allows the model to break down words that aren't in its predefined vocabulary into smaller subword units or even individual characters, \n",
    "# -enabling it to handle out-of-vocabulary words\n",
    "\n",
    "import tiktoken"
   ]
  },
  {
   "cell_type": "code",
   "execution_count": 75,
   "id": "fb3d1240-77d2-40ee-ba03-12a1427178dd",
   "metadata": {},
   "outputs": [],
   "source": [
    "tokenizer = tiktoken.get_encoding(\"gpt2\")"
   ]
  },
  {
   "cell_type": "code",
   "execution_count": 76,
   "id": "99e27e79-5776-45ab-b0c2-bc884cbbf8b8",
   "metadata": {},
   "outputs": [
    {
     "data": {
      "text/plain": [
       "[15496, 995]"
      ]
     },
     "execution_count": 76,
     "metadata": {},
     "output_type": "execute_result"
    }
   ],
   "source": [
    "tokenizer.encode(\"Hello world\")"
   ]
  },
  {
   "cell_type": "code",
   "execution_count": 77,
   "id": "626429c6-e241-4657-b96c-3acbaf343c43",
   "metadata": {},
   "outputs": [
    {
     "data": {
      "text/plain": [
       "'Hello world'"
      ]
     },
     "execution_count": 77,
     "metadata": {},
     "output_type": "execute_result"
    }
   ],
   "source": [
    "tokenizer.decode(tokenizer.encode(\"Hello world\"))"
   ]
  },
  {
   "cell_type": "code",
   "execution_count": 78,
   "id": "ca8eb935-a009-4ae8-8abb-66d25ba26223",
   "metadata": {},
   "outputs": [
    {
     "data": {
      "text/plain": [
       "[15496,\n",
       " 11,\n",
       " 466,\n",
       " 345,\n",
       " 588,\n",
       " 8887,\n",
       " 30,\n",
       " 220,\n",
       " 50256,\n",
       " 554,\n",
       " 262,\n",
       " 4252,\n",
       " 18250,\n",
       " 8812,\n",
       " 2114,\n",
       " 1659,\n",
       " 617,\n",
       " 34680,\n",
       " 27271,\n",
       " 13]"
      ]
     },
     "execution_count": 78,
     "metadata": {},
     "output_type": "execute_result"
    }
   ],
   "source": [
    "text = (\n",
    "    \"Hello, do you like tea? <|endoftext|> In the sunlit terraces\"\n",
    "    \"of someunknownPlace.\"\n",
    ")\n",
    "\n",
    "tokenizer.encode(text, allowed_special={\"<|endoftext|>\"})"
   ]
  },
  {
   "cell_type": "markdown",
   "id": "14a2dd54-7eff-4486-8f11-4c18d9e6934a",
   "metadata": {},
   "source": [
    "## 2.6 Data sampling with a sliding window"
   ]
  },
  {
   "cell_type": "code",
   "execution_count": 79,
   "id": "13ad0538-d0d6-4673-8205-ff474a6ebdcc",
   "metadata": {},
   "outputs": [
    {
     "name": "stdout",
     "output_type": "stream",
     "text": [
      "5145\n"
     ]
    }
   ],
   "source": [
    "# LLMs are trained to generate one word at a time, so we can prepare training data accordingly where the next word in a sequence is the\n",
    "# target for the LLM to predict. For now, this section is simply the setup for the LLM (pre-training stage)\n",
    "\n",
    "with open(\"the-verdict.txt\", \"r\", encoding=\"utf-8\") as f:\n",
    "    raw_text = f.read()\n",
    "\n",
    "enc_text = tokenizer.encode(raw_text)\n",
    "print(len(enc_text))"
   ]
  },
  {
   "cell_type": "code",
   "execution_count": 80,
   "id": "8b9c5779-d296-4bfe-baba-4eca01715e32",
   "metadata": {},
   "outputs": [],
   "source": [
    "enc_sample = enc_text[50:]"
   ]
  },
  {
   "cell_type": "code",
   "execution_count": 81,
   "id": "dcec44a5-f38b-4479-b06b-2d9af59cab45",
   "metadata": {},
   "outputs": [
    {
     "name": "stdout",
     "output_type": "stream",
     "text": [
      "x: [290, 4920, 2241, 287]\n",
      "y:      [4920, 2241, 287, 257]\n"
     ]
    }
   ],
   "source": [
    "# as we want the LLM to predict the next word, the targets are the inputs+1\n",
    "\n",
    "context_size = 4\n",
    "\n",
    "x = enc_sample[:context_size]\n",
    "y = enc_sample[1:context_size+1]\n",
    "\n",
    "print(f\"x: {x}\")\n",
    "print(f\"y:      {y}\")"
   ]
  },
  {
   "cell_type": "code",
   "execution_count": 82,
   "id": "6469b216-e59d-406d-b49a-d858b332befa",
   "metadata": {},
   "outputs": [
    {
     "name": "stdout",
     "output_type": "stream",
     "text": [
      " and ---->  established\n",
      " and established ---->  himself\n",
      " and established himself ---->  in\n",
      " and established himself in ---->  a\n"
     ]
    }
   ],
   "source": [
    " for i in range(1, context_size+1):\n",
    "     context = enc_sample[:i]\n",
    "     desired = enc_sample[i]\n",
    "\n",
    "     print(tokenizer.decode(context), \"---->\", tokenizer.decode([desired]))"
   ]
  },
  {
   "cell_type": "code",
   "execution_count": 83,
   "id": "6aa46216-52bb-485e-973b-ea6f67b34e73",
   "metadata": {},
   "outputs": [],
   "source": [
    "import torch"
   ]
  },
  {
   "cell_type": "code",
   "execution_count": 84,
   "id": "fcfd934b-7d14-4a7b-9522-41b060ceb9ba",
   "metadata": {},
   "outputs": [
    {
     "data": {
      "text/plain": [
       "'2.6.0'"
      ]
     },
     "execution_count": 84,
     "metadata": {},
     "output_type": "execute_result"
    }
   ],
   "source": [
    "torch.__version__"
   ]
  },
  {
   "cell_type": "code",
   "execution_count": 85,
   "id": "9ad3fe48-ae2d-4930-b462-d78181edc52f",
   "metadata": {},
   "outputs": [],
   "source": [
    "from torch.utils.data import Dataset, DataLoader\n",
    "\n",
    "\n",
    "class GPTDatasetV1(Dataset):\n",
    "    def __init__(self, txt, tokenizer, max_length, stride):\n",
    "        self.input_ids = []\n",
    "        self.target_ids = []\n",
    "\n",
    "        # tokenize the entire text\n",
    "        token_ids = tokenizer.encode(txt, allowed_special={\"<|endoftext|>\"})\n",
    "        assert len(token_ids) > max_length, \"Number of tokenized inputs must at least be equal to max_length+1\"\n",
    "\n",
    "        # use a sliding window to chunk the book into overlapping sequences of max_length\n",
    "        for i in range(0, len(token_ids) - max_length, stride):\n",
    "            input_chunk = token_ids[i:i + max_length]\n",
    "            target_chunk = token_ids[i + 1: i + max_length + 1]\n",
    "            self.input_ids.append(torch.tensor(input_chunk))\n",
    "            self.target_ids.append(torch.tensor(target_chunk))\n",
    "\n",
    "    def __len__(self):\n",
    "        return len(self.input_ids)\n",
    "\n",
    "    def __getitem__(self, idx):\n",
    "        return self.input_ids[idx], self.target_ids[idx]"
   ]
  },
  {
   "cell_type": "code",
   "execution_count": 86,
   "id": "bd4c88ee-3fa9-433d-a6ff-ad34172106c3",
   "metadata": {},
   "outputs": [],
   "source": [
    "# divides data into batches of size 4, removes the last batch to avoid loss spikes\n",
    "\n",
    "def create_dataloader_v1(txt, batch_size=4, max_length=256, \n",
    "                         stride=128, shuffle=True, drop_last=True,\n",
    "                         num_workers=0):\n",
    "\n",
    "    # initialize tokenizer\n",
    "    tokenizer = tiktoken.get_encoding(\"gpt2\")\n",
    "\n",
    "    # create dataset\n",
    "    dataset = GPTDatasetV1(txt, tokenizer, max_length, stride)\n",
    "\n",
    "    # create dataloader\n",
    "    dataloader = DataLoader(\n",
    "        dataset,\n",
    "        batch_size=batch_size,\n",
    "        shuffle=shuffle,\n",
    "        drop_last=drop_last,\n",
    "        num_workers=num_workers\n",
    "    )\n",
    "\n",
    "    return dataloader"
   ]
  },
  {
   "cell_type": "code",
   "execution_count": 87,
   "id": "8ee0c5e8-524f-4df7-b3bd-77800119924d",
   "metadata": {},
   "outputs": [],
   "source": [
    "with open(\"the-verdict.txt\", \"r\", encoding=\"utf-8\") as f:\n",
    "    raw_text = f.read()"
   ]
  },
  {
   "cell_type": "code",
   "execution_count": 88,
   "id": "1605e33e-5871-4078-9924-4ae175375ec5",
   "metadata": {},
   "outputs": [
    {
     "name": "stdout",
     "output_type": "stream",
     "text": [
      "[tensor([[  40,  367, 2885, 1464]]), tensor([[ 367, 2885, 1464, 1807]])]\n"
     ]
    }
   ],
   "source": [
    "dataloader = create_dataloader_v1(\n",
    "    raw_text, batch_size=1, max_length=4, stride=4, shuffle=False\n",
    ")\n",
    "\n",
    "data_iter = iter(dataloader)\n",
    "first_batch = next(data_iter)\n",
    "print(first_batch)"
   ]
  },
  {
   "cell_type": "code",
   "execution_count": 89,
   "id": "8e9e0f64-8965-4ba8-bf5d-16574ee454c5",
   "metadata": {},
   "outputs": [
    {
     "name": "stdout",
     "output_type": "stream",
     "text": [
      "[tensor([[1807, 3619,  402,  271]]), tensor([[ 3619,   402,   271, 10899]])]\n"
     ]
    }
   ],
   "source": [
    "second_batch = next(data_iter)\n",
    "print(second_batch)"
   ]
  },
  {
   "cell_type": "code",
   "execution_count": 90,
   "id": "60d5861a-c398-492f-9e36-eb040c8829ca",
   "metadata": {},
   "outputs": [
    {
     "name": "stdout",
     "output_type": "stream",
     "text": [
      "Inputs:\n",
      " tensor([[   40,   367,  2885,  1464],\n",
      "        [ 1807,  3619,   402,   271],\n",
      "        [10899,  2138,   257,  7026],\n",
      "        [15632,   438,  2016,   257],\n",
      "        [  922,  5891,  1576,   438],\n",
      "        [  568,   340,   373,   645],\n",
      "        [ 1049,  5975,   284,   502],\n",
      "        [  284,  3285,   326,    11]])\n",
      "\n",
      "Targets:\n",
      " tensor([[  367,  2885,  1464,  1807],\n",
      "        [ 3619,   402,   271, 10899],\n",
      "        [ 2138,   257,  7026, 15632],\n",
      "        [  438,  2016,   257,   922],\n",
      "        [ 5891,  1576,   438,   568],\n",
      "        [  340,   373,   645,  1049],\n",
      "        [ 5975,   284,   502,   284],\n",
      "        [ 3285,   326,    11,   287]])\n"
     ]
    }
   ],
   "source": [
    "# using batch inputs here, and increasing stride to avoid overlapping between input-output\n",
    "# notice the targets are always one token after the inputs\n",
    "\n",
    "dataloader = create_dataloader_v1(raw_text, batch_size=8, max_length=4, stride=4, shuffle=False)\n",
    "\n",
    "data_iter = iter(dataloader)\n",
    "inputs, targets = next(data_iter)\n",
    "print(\"Inputs:\\n\", inputs)\n",
    "print(\"\\nTargets:\\n\", targets)"
   ]
  },
  {
   "cell_type": "markdown",
   "id": "819c4b12-d652-47d9-bb02-7ad6d1a41967",
   "metadata": {},
   "source": [
    "## 2.7 Creating token embeddings"
   ]
  },
  {
   "cell_type": "code",
   "execution_count": 91,
   "id": "dd637e9e-adc0-4a6a-9f4e-b3a759cd4880",
   "metadata": {},
   "outputs": [],
   "source": [
    "# the data is almost ready for the LLM\n",
    "# now, I embed the tokens in a continuous vector representation using an embedding layer\n",
    "\n",
    "inputs_ids = torch.tensor([2,   3,    5,   1])"
   ]
  },
  {
   "cell_type": "code",
   "execution_count": 92,
   "id": "c622be33-b139-4760-83a6-4f82f49fba5a",
   "metadata": {},
   "outputs": [],
   "source": [
    "# this would result in a 6x3 weight matrix\n",
    "\n",
    "vocab_size = 6\n",
    "output_dim = 3\n",
    "\n",
    "torch.manual_seed(123)\n",
    "embedding_layer = torch.nn.Embedding(tokenizer.n_vocab, output_dim)"
   ]
  },
  {
   "cell_type": "code",
   "execution_count": 93,
   "id": "6640eb12-c28f-4d30-bf87-3305a6954f81",
   "metadata": {},
   "outputs": [
    {
     "name": "stdout",
     "output_type": "stream",
     "text": [
      "Parameter containing:\n",
      "tensor([[ 0.3374, -0.1778, -0.3035],\n",
      "        [-0.5880,  0.3486,  0.6603],\n",
      "        [-0.2196, -0.3792,  0.7671],\n",
      "        ...,\n",
      "        [-0.5931,  1.0895, -0.6854],\n",
      "        [ 0.7447,  0.5803, -0.4246],\n",
      "        [-0.3130,  0.7558, -1.2656]], requires_grad=True)\n"
     ]
    }
   ],
   "source": [
    "# because the embedding layer is just a more efficient implementation that is equivalent to the one-hot encoding and \n",
    "# matrix-multiplication approach it can be seen as a neural network layer that can be optimized via backpropagation\n",
    "\n",
    "print(embedding_layer.weight)"
   ]
  },
  {
   "cell_type": "code",
   "execution_count": 94,
   "id": "a35fdb97-510b-464f-82c8-e657f735294e",
   "metadata": {},
   "outputs": [
    {
     "data": {
      "text/plain": [
       "tensor([[-1.1925,  0.6984, -1.4097]], grad_fn=<EmbeddingBackward0>)"
      ]
     },
     "execution_count": 94,
     "metadata": {},
     "output_type": "execute_result"
    }
   ],
   "source": [
    "# converts a token with id 3 to a three dimensional vector\n",
    "\n",
    "embedding_layer(torch.tensor([3]))"
   ]
  },
  {
   "cell_type": "code",
   "execution_count": 95,
   "id": "0aba8c95-7c2d-4b21-8203-a61c0c361a3c",
   "metadata": {},
   "outputs": [
    {
     "data": {
      "text/plain": [
       "tensor([[-0.2196, -0.3792,  0.7671],\n",
       "        [-1.1925,  0.6984, -1.4097],\n",
       "        [ 0.2692, -0.0770, -1.0205],\n",
       "        [-0.5880,  0.3486,  0.6603]], grad_fn=<EmbeddingBackward0>)"
      ]
     },
     "execution_count": 95,
     "metadata": {},
     "output_type": "execute_result"
    }
   ],
   "source": [
    "# converts all tokens in input_ids into 3 dimensional vectors\n",
    "\n",
    "embedding_layer(inputs_ids)"
   ]
  },
  {
   "cell_type": "code",
   "execution_count": 96,
   "id": "5d74d9c5-b7c5-48a5-838f-783e6c6437b6",
   "metadata": {},
   "outputs": [
    {
     "data": {
      "text/plain": [
       "tensor([2, 3, 5, 1])"
      ]
     },
     "execution_count": 96,
     "metadata": {},
     "output_type": "execute_result"
    }
   ],
   "source": [
    "inputs_ids"
   ]
  },
  {
   "cell_type": "markdown",
   "id": "2f87d462-e5dc-4b42-ab14-9c9b258f0fe0",
   "metadata": {},
   "source": [
    " ## 2.8 Encoding word positions"
   ]
  },
  {
   "cell_type": "code",
   "execution_count": 113,
   "id": "90bbc21f-e0ba-4b14-a60d-153db178788b",
   "metadata": {},
   "outputs": [],
   "source": [
    "# output_dim = 256 sets the input tokens to be encoded as 256-dimensional vectors\n",
    "\n",
    "vocab_size = 50257\n",
    "output_dim = 256\n",
    "\n",
    "token_embedding_layer = torch.nn.Embedding(vocab_size, output_dim)"
   ]
  },
  {
   "cell_type": "code",
   "execution_count": 114,
   "id": "d98c38e7-ebb7-4ae5-8581-3f340de7d0f8",
   "metadata": {},
   "outputs": [],
   "source": [
    "# this results in a 8 x 4 x 256 tensor of a batch size of 8 with 4 tokens each\n",
    "\n",
    "max_length = 4\n",
    "dataloader = create_dataloader_v1(\n",
    "    raw_text, batch_size=8, max_length=max_length,\n",
    "    stride=max_length, shuffle=False\n",
    ")\n",
    "data_iter = iter(dataloader)\n",
    "inputs, targets = next(data_iter)"
   ]
  },
  {
   "cell_type": "code",
   "execution_count": 115,
   "id": "9f0d3517-fea1-4ad6-b0df-67593094333d",
   "metadata": {},
   "outputs": [
    {
     "name": "stdout",
     "output_type": "stream",
     "text": [
      "Token IDS:\n",
      " tensor([[   40,   367,  2885,  1464],\n",
      "        [ 1807,  3619,   402,   271],\n",
      "        [10899,  2138,   257,  7026],\n",
      "        [15632,   438,  2016,   257],\n",
      "        [  922,  5891,  1576,   438],\n",
      "        [  568,   340,   373,   645],\n",
      "        [ 1049,  5975,   284,   502],\n",
      "        [  284,  3285,   326,    11]])\n",
      "\n",
      "Inputs shape:\n",
      " torch.Size([8, 4])\n"
     ]
    }
   ],
   "source": [
    "print(\"Token IDS:\\n\", inputs)\n",
    "print(\"\\nInputs shape:\\n\", inputs.shape)"
   ]
  },
  {
   "cell_type": "code",
   "execution_count": 116,
   "id": "40c48dd0-f971-479b-8e6c-23dc61d6cb1a",
   "metadata": {},
   "outputs": [
    {
     "data": {
      "text/plain": [
       "torch.Size([8, 4, 256])"
      ]
     },
     "execution_count": 116,
     "metadata": {},
     "output_type": "execute_result"
    }
   ],
   "source": [
    "token_embeddings = token_embedding_layer(inputs)\n",
    "token_embeddings.shape"
   ]
  },
  {
   "cell_type": "code",
   "execution_count": 117,
   "id": "b3b38da3-4ce8-4307-92a0-6bedbd57febe",
   "metadata": {},
   "outputs": [
    {
     "data": {
      "text/plain": [
       "tensor([ 2.5572e-01,  4.0256e-01, -1.2418e+00, -3.5538e-01, -1.7879e+00,\n",
       "        -6.3204e-01, -2.9631e-01,  6.2682e-01, -1.3226e+00, -9.2090e-01,\n",
       "        -9.6005e-02, -1.0284e-01,  1.5004e+00,  6.9171e-01,  8.5592e-01,\n",
       "         5.7227e-02,  6.8837e-01,  5.6939e-01, -3.6974e-01,  2.0287e+00,\n",
       "         2.2091e+00,  5.9145e-01,  2.6005e-01,  4.3499e-01,  5.7573e-02,\n",
       "         1.4959e+00,  3.5999e-01,  1.3825e+00, -4.0240e-01, -1.3820e-01,\n",
       "         4.0812e-02,  1.0731e+00,  1.4207e-01,  4.7325e-01,  6.2781e-01,\n",
       "        -5.3984e-01,  3.3792e-01,  9.5209e-01, -2.1227e+00, -1.5468e+00,\n",
       "         6.8586e-02,  1.0512e+00, -9.2698e-01,  1.0980e-01,  4.6036e-01,\n",
       "        -4.1604e-01, -3.2448e-01, -1.5669e-01, -5.9218e-01, -1.1020e+00,\n",
       "         4.2881e-01, -1.0630e+00,  3.3821e-01, -5.5192e-01,  1.0851e+00,\n",
       "         1.6413e+00,  1.6229e-01, -3.0428e-01, -5.1214e-02,  1.8436e+00,\n",
       "         2.5976e-02, -2.2142e+00, -3.5916e-01,  8.6204e-01,  7.1424e-01,\n",
       "        -6.1826e-01, -1.5853e+00, -1.5914e+00, -2.0880e+00, -2.5435e+00,\n",
       "         1.1353e+00, -3.4787e-01,  8.7808e-01,  1.9453e+00,  1.1175e+00,\n",
       "         2.1163e-01, -1.5197e-01,  7.7549e-01,  4.1205e-02,  1.7694e+00,\n",
       "        -1.0374e+00,  8.3060e-01,  5.5231e-01, -1.5763e+00,  5.5284e-01,\n",
       "         3.4327e-01,  1.5991e-01,  4.6112e-01, -9.5427e-01,  1.5834e-01,\n",
       "        -3.7972e-01,  3.1512e-01, -4.5515e-01, -3.8671e-01,  1.2994e+00,\n",
       "        -1.5882e-01,  1.4657e-01, -1.3909e+00,  1.4802e+00, -1.1459e+00,\n",
       "        -5.8552e-01, -1.1531e-02,  5.3021e-02, -1.3483e+00, -1.3480e-01,\n",
       "        -2.1101e+00,  7.9568e-01, -7.5481e-01, -9.3536e-01, -3.2543e+00,\n",
       "        -3.2480e-01,  2.0571e+00, -7.8786e-01,  6.9760e-01, -2.7936e-01,\n",
       "         3.0940e-01, -8.4798e-01,  2.0080e-01, -3.4915e-01,  1.0110e-02,\n",
       "        -1.0495e-01, -2.1055e+00, -1.3087e+00, -1.5041e+00,  2.1292e-01,\n",
       "        -1.6640e+00,  3.0162e-01, -1.3710e+00, -1.0326e+00, -2.3654e+00,\n",
       "        -3.4771e-02,  2.4633e+00,  4.7400e-01,  2.1523e-01, -8.4099e-02,\n",
       "        -2.5259e-01, -6.2894e-01,  7.3097e-02, -3.9065e-02, -9.8368e-01,\n",
       "        -4.8627e-01,  4.5977e-01,  1.2691e+00, -1.5231e+00,  1.3511e+00,\n",
       "        -4.4525e-01, -1.0407e+00, -3.0999e+00,  5.4722e-02, -4.9967e-01,\n",
       "         1.1514e+00,  1.1123e+00, -8.9947e-01, -2.5278e-01, -4.5977e-01,\n",
       "        -6.2873e-01,  7.3635e-02, -4.2443e-01,  1.7380e+00, -1.8337e+00,\n",
       "         8.9788e-01, -1.4741e+00, -2.2633e+00, -1.6189e+00,  2.4581e-04,\n",
       "         1.0227e+00, -6.3006e-01,  8.3162e-01,  3.3213e-03, -7.0165e-01,\n",
       "         5.9898e-01,  1.7438e+00,  4.2678e-01, -6.7805e-01,  1.1087e+00,\n",
       "        -5.4082e-01, -2.1818e-01,  4.2903e-01,  4.2352e-01, -1.7195e+00,\n",
       "        -3.3065e-01,  2.0483e+00,  1.9856e-02,  2.2822e+00, -9.6036e-01,\n",
       "         7.7450e-01,  1.0856e-01, -5.9413e-01, -9.6713e-01,  1.1841e-01,\n",
       "        -2.1944e-01,  5.3334e-01, -5.9615e-01, -7.8635e-01,  1.4143e-02,\n",
       "         1.3772e+00,  2.2475e+00, -3.0915e-01, -1.9470e+00,  5.2696e-01,\n",
       "        -8.8950e-01,  2.3568e-01, -5.4808e-01, -3.3748e-01, -5.6000e-01,\n",
       "        -4.5153e-01,  1.1991e+00,  3.7585e-01, -4.2103e-01,  4.6061e-02,\n",
       "         9.0910e-01,  5.3431e-01,  1.6045e+00,  2.0708e+00, -1.0050e+00,\n",
       "        -1.0199e+00, -2.2336e-01,  1.4582e-01, -6.2552e-01,  1.0685e-01,\n",
       "        -1.9762e-01,  2.8616e-01, -1.2747e+00,  3.1619e-01, -6.6648e-02,\n",
       "        -2.0410e-01,  1.6895e-01,  4.9498e-01,  2.0128e-01,  8.5966e-01,\n",
       "        -9.8493e-01,  1.2129e+00, -1.4415e-01,  1.1925e+00, -2.4255e-01,\n",
       "         1.8418e+00,  2.3167e+00, -8.0260e-02, -3.2817e-01, -1.9869e+00,\n",
       "        -1.0861e-01,  1.3212e+00,  2.1451e-01,  5.5206e-01,  2.2712e+00,\n",
       "         4.9422e-01,  1.5758e-01,  3.0007e-01,  9.1487e-01, -1.8536e-01,\n",
       "         9.4189e-01,  7.5057e-02,  1.1611e+00,  3.2310e-01,  4.8615e-01,\n",
       "        -1.1025e+00], grad_fn=<SelectBackward0>)"
      ]
     },
     "execution_count": 117,
     "metadata": {},
     "output_type": "execute_result"
    }
   ],
   "source": [
    "# example of one of the 256 vector dimensions, corresponding to the first token of the first batch\n",
    "\n",
    "token_embeddings[0, 0]"
   ]
  },
  {
   "cell_type": "code",
   "execution_count": 122,
   "id": "6f64415f-0ef6-486c-be97-b7a7ba616490",
   "metadata": {},
   "outputs": [],
   "source": [
    "# creates a second embedding layer (pos_embedding_layer)\n",
    "# positional embeddings are combined with the token embedding vector to form the input embeddings for a large language model\n",
    "\n",
    "context_length = max_length\n",
    "pos_embedding_layer = torch.nn.Embedding(context_length, output_dim)"
   ]
  },
  {
   "cell_type": "code",
   "execution_count": 120,
   "id": "79929987-55dd-470f-9a6e-c1a378a62c6a",
   "metadata": {},
   "outputs": [
    {
     "data": {
      "text/plain": [
       "tensor([0, 1, 2, 3])"
      ]
     },
     "execution_count": 120,
     "metadata": {},
     "output_type": "execute_result"
    }
   ],
   "source": [
    "torch.arange(max_length)"
   ]
  },
  {
   "cell_type": "code",
   "execution_count": 121,
   "id": "64a1c25f-9eaa-4079-9e29-c7263093ce0f",
   "metadata": {},
   "outputs": [
    {
     "data": {
      "text/plain": [
       "Parameter containing:\n",
       "tensor([[-1.2826, -1.6240, -0.4873,  ...,  0.6021, -0.3921, -1.3306],\n",
       "        [ 1.1205, -1.3247,  1.7293,  ..., -0.6819, -0.6186,  1.0702],\n",
       "        [ 0.6131, -1.3057,  0.8526,  ...,  0.0443, -0.7291,  0.2958],\n",
       "        [ 0.7650, -0.8423, -3.3804,  ..., -0.3532, -0.5664, -1.1925]],\n",
       "       requires_grad=True)"
      ]
     },
     "execution_count": 121,
     "metadata": {},
     "output_type": "execute_result"
    }
   ],
   "source": [
    "pos_embedding_layer.weight"
   ]
  },
  {
   "cell_type": "code",
   "execution_count": 105,
   "id": "ec441e75-e0ae-4d48-8c7a-fda35b076767",
   "metadata": {},
   "outputs": [
    {
     "name": "stdout",
     "output_type": "stream",
     "text": [
      "torch.Size([4, 256])\n"
     ]
    }
   ],
   "source": [
    "pos_embeddings = pos_embedding_layer(torch.arange(max_length))\n",
    "print(pos_embeddings.shape)"
   ]
  },
  {
   "cell_type": "code",
   "execution_count": 106,
   "id": "3440fdf6-7991-4423-999f-136edb95172c",
   "metadata": {},
   "outputs": [
    {
     "data": {
      "text/plain": [
       "torch.Size([8, 4, 256])"
      ]
     },
     "execution_count": 106,
     "metadata": {},
     "output_type": "execute_result"
    }
   ],
   "source": [
    "token_embeddings.shape"
   ]
  },
  {
   "cell_type": "code",
   "execution_count": 107,
   "id": "75fb18b3-0397-4593-b791-686e2c8a22b6",
   "metadata": {},
   "outputs": [
    {
     "data": {
      "text/plain": [
       "torch.Size([4, 256])"
      ]
     },
     "execution_count": 107,
     "metadata": {},
     "output_type": "execute_result"
    }
   ],
   "source": [
    "pos_embeddings.shape"
   ]
  },
  {
   "cell_type": "code",
   "execution_count": 123,
   "id": "7cd96ad3-bf1f-43b9-97ba-07c9fda4eb40",
   "metadata": {},
   "outputs": [
    {
     "name": "stdout",
     "output_type": "stream",
     "text": [
      "torch.Size([8, 4, 256])\n"
     ]
    }
   ],
   "source": [
    "# adds positional embedding layer's vector values onto the token embedding layer to create the input embeddings\n",
    "\n",
    "input_embeddings = token_embeddings + pos_embeddings\n",
    "print(input_embeddings.shape)"
   ]
  },
  {
   "cell_type": "markdown",
   "id": "7fbd4232-d82c-4ef2-98a2-b3745dab82ba",
   "metadata": {},
   "source": [
    "<img src=\"https://sebastianraschka.com/images/LLMs-from-scratch-images/ch02_compressed/19.webp\" width=\"400px\">"
   ]
  }
 ],
 "metadata": {
  "kernelspec": {
   "display_name": "Python 3 (ipykernel)",
   "language": "python",
   "name": "python3"
  },
  "language_info": {
   "codemirror_mode": {
    "name": "ipython",
    "version": 3
   },
   "file_extension": ".py",
   "mimetype": "text/x-python",
   "name": "python",
   "nbconvert_exporter": "python",
   "pygments_lexer": "ipython3",
   "version": "3.12.9"
  }
 },
 "nbformat": 4,
 "nbformat_minor": 5
}
